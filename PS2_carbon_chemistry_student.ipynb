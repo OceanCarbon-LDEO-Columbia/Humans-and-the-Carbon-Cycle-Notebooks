{
 "cells": [
  {
   "cell_type": "markdown",
   "id": "142a2290-515a-4b86-bf77-3611bde71329",
   "metadata": {},
   "source": [
    "## Carbon calculations for Problem Set 2\n",
    "Humans and the Carbon Cycle, Fall 2024, Professor McKinley, Columbia University\n",
    "\n",
    "Version 09-22-24 G.A. McKinley "
   ]
  },
  {
   "cell_type": "markdown",
   "id": "7af0d645-cc57-41c4-b85d-835410abf1ce",
   "metadata": {},
   "source": [
    "### Load packages needed for this notebook"
   ]
  },
  {
   "cell_type": "code",
   "execution_count": null,
   "id": "8cd482ae-4668-48d0-9257-bb5e9b647a6b",
   "metadata": {},
   "outputs": [],
   "source": [
    "pip install -q cbsyst"
   ]
  },
  {
   "cell_type": "code",
   "execution_count": null,
   "id": "0e2fb20c-767c-4456-acce-ec1fa713863e",
   "metadata": {},
   "outputs": [],
   "source": [
    "# Loading packages\n",
    "import pandas as pd\n",
    "import xarray as xr\n",
    "import numpy as np\n",
    "import math\n",
    "\n",
    "import matplotlib.pyplot as plt\n",
    "\n",
    "%matplotlib widget \n",
    "# ^ allows zooming in to the plots!\n",
    "\n",
    "import cmocean as cm    \n",
    "\n",
    "import cbsyst as cb\n",
    "\n",
    "import gcsfs\n",
    "fs = gcsfs.GCSFileSystem()"
   ]
  },
  {
   "cell_type": "markdown",
   "id": "e3a7ac3d-9619-42c1-8c45-c8e370541889",
   "metadata": {},
   "source": [
    "## Set T and S"
   ]
  },
  {
   "cell_type": "code",
   "execution_count": null,
   "id": "121a7a02-c15b-4a68-9cf2-d42727f63fae",
   "metadata": {},
   "outputs": [],
   "source": [
    "# Temperature = 20 C\n",
    "T = 20\n",
    "# Salinity = 35 psu\n",
    "S = 35"
   ]
  },
  {
   "cell_type": "markdown",
   "id": "be9a5f3a-4e9d-44cf-91a8-b2aa888f79e6",
   "metadata": {},
   "source": [
    "## Notebook set for units of umol/kg as in the figures of Williams and Follows\n",
    "Note that their Table 6.2 has units of mmol/kg (a factor of 1000)"
   ]
  },
  {
   "cell_type": "markdown",
   "id": "7b72b687-1a4c-4dc9-b967-08c519afc0b2",
   "metadata": {},
   "source": [
    "# 1. Explore the carbon calculator\n",
    "\n",
    "You must input two carbon variables (pH, DIC, CO2, HCO3, CO3, or TA)\n",
    "\n",
    "T,S are also required (set above). \n",
    "\n",
    "Once you run the calculation, all other carbon variables in equilibrium with your inputs are available.\\\n",
    "     - If you want to see the full set of output, type \"CW\" in a new cell"
   ]
  },
  {
   "cell_type": "code",
   "execution_count": null,
   "id": "623af8fe-e7f9-4846-8049-1960878c2570",
   "metadata": {},
   "outputs": [],
   "source": [
    "TA_input = 2300\n",
    "DIC_input = 2200"
   ]
  },
  {
   "cell_type": "code",
   "execution_count": null,
   "id": "2a62607e-665a-4466-abea-bf868f6b4b9c",
   "metadata": {},
   "outputs": [],
   "source": [
    "# Run the calculation for the inputs above\n",
    "CW = cb.Csys(T_in=T, S_in=S, TA=TA_input, DIC = DIC_input, unit='umol') "
   ]
  },
  {
   "cell_type": "code",
   "execution_count": null,
   "id": "ddbbcc7d-aac9-4159-bb49-70e5ae73c600",
   "metadata": {},
   "outputs": [],
   "source": [
    "# pH\n",
    "CW.pHtot"
   ]
  },
  {
   "cell_type": "code",
   "execution_count": null,
   "id": "1e277cda-bfbb-4af1-ac14-acb7b1ecef9d",
   "metadata": {},
   "outputs": [],
   "source": [
    "# [CO2*] dissolved CO2 \n",
    "CW.CO2"
   ]
  },
  {
   "cell_type": "code",
   "execution_count": null,
   "id": "5004060b-efe6-4d59-81a4-89aa486082b5",
   "metadata": {},
   "outputs": [],
   "source": [
    "# [HCO3-], bicarbonate\n",
    "CW.HCO3"
   ]
  },
  {
   "cell_type": "code",
   "execution_count": null,
   "id": "efdcb908-400a-4beb-90b5-b02288a6ccaf",
   "metadata": {},
   "outputs": [],
   "source": [
    "# [CO3=], carbonate\n",
    "CW.CO3"
   ]
  },
  {
   "cell_type": "code",
   "execution_count": null,
   "id": "0b788355-a1f8-443d-b2e4-a7d4ff190b8f",
   "metadata": {},
   "outputs": [],
   "source": []
  },
  {
   "cell_type": "markdown",
   "id": "bbb075bd-b517-47eb-9a85-b0d4d69770ec",
   "metadata": {},
   "source": [
    "## 2. Create the plots for this problem\n",
    "\n",
    "Student identifies reasonable inputs and enters below\n",
    "-  fixed ALK, max/min for DIC\n",
    "-  fixed DIC, max/min for ALK\n",
    "-  fixed ALK, max/min for pCO2\n",
    "\n",
    "Code runs the calculator and outputs the figures\n"
   ]
  },
  {
   "cell_type": "markdown",
   "id": "22f0c9b3-4560-4b65-b7ea-88fd8a002c9f",
   "metadata": {},
   "source": [
    "## Set ALK, max/min for DIC"
   ]
  },
  {
   "cell_type": "code",
   "execution_count": null,
   "id": "837b38bd-7f6c-4c5f-8051-35a00afbc463",
   "metadata": {},
   "outputs": [],
   "source": [
    "# in umol/kg \n",
    "\n",
    "# Set ALK\n",
    "ALK_input = \n",
    "\n",
    "######### #########  #########\n",
    "# Variable DIC \n",
    "# Set min DIC\n",
    "DICmin = \n",
    "# Set max DIC\n",
    "DICmax =\n",
    "# Make array\n",
    "DIC_input = np.arange(DICmin,DICmax,5)"
   ]
  },
  {
   "cell_type": "code",
   "execution_count": null,
   "id": "82a99735-d0e8-4888-979b-fb5ce89b4e29",
   "metadata": {},
   "outputs": [],
   "source": [
    "DIC_input"
   ]
  },
  {
   "cell_type": "code",
   "execution_count": null,
   "id": "0e9f64a1-8bde-4ca4-b597-93df7276afa1",
   "metadata": {},
   "outputs": [],
   "source": [
    "CW = cb.Csys(T_in=T, S_in=S, TA=ALK_input, DIC = DIC_input, unit='umol') "
   ]
  },
  {
   "cell_type": "code",
   "execution_count": null,
   "id": "839563d3-466c-4fab-a2ec-35f7fbdc9ff3",
   "metadata": {},
   "outputs": [],
   "source": [
    "fig = plt.figure(figsize=(10,6))\n",
    "plt.plot(DIC_input,CW.pHtot)\n",
    "plt.ylabel('pH')\n",
    "plt.xlabel('DIC (umol/kg)')\n",
    "plt.title('DIC vs pH at fixed ALK')"
   ]
  },
  {
   "cell_type": "markdown",
   "id": "2aa0cef8-6885-4781-aa86-64f934782b2a",
   "metadata": {},
   "source": [
    "## Set DIC, max/min for ALK"
   ]
  },
  {
   "cell_type": "code",
   "execution_count": null,
   "id": "a4185d27-f831-4455-9aab-44fcbcd8d56e",
   "metadata": {},
   "outputs": [],
   "source": [
    "# in umol/kg \n",
    "\n",
    "# Set DIC_input\n",
    "DIC_input = \n",
    "\n",
    "######### #########  #########\n",
    "# Variable ALK\n",
    "\n",
    "# Set min ALK\n",
    "ALKmin = \n",
    "# Set max ALK\n",
    "ALKmax = \n",
    "# make array\n",
    "ALK_input = np.arange(ALKmin,ALKmax,5)"
   ]
  },
  {
   "cell_type": "code",
   "execution_count": null,
   "id": "9374d91f-b3d7-43a7-ada3-0db9ac477216",
   "metadata": {},
   "outputs": [],
   "source": [
    "ALK_input"
   ]
  },
  {
   "cell_type": "code",
   "execution_count": null,
   "id": "e9d9ada3-0d8d-4b4b-aac4-0a03a2b01a7b",
   "metadata": {},
   "outputs": [],
   "source": [
    "CW = cb.Csys(T_in=T, S_in=S, TA=ALK_input, DIC = DIC_input, unit='umol') "
   ]
  },
  {
   "cell_type": "code",
   "execution_count": null,
   "id": "61842295-f117-4491-89b6-a4d95adb7ede",
   "metadata": {},
   "outputs": [],
   "source": [
    "fig = plt.figure(figsize=(10,6))\n",
    "plt.plot(ALK_input,CW.pHtot)\n",
    "plt.ylabel('pH')\n",
    "plt.xlabel('ALK  (umol/kg)')\n",
    "plt.title('ALK vs pH at fixed DIC')"
   ]
  },
  {
   "cell_type": "markdown",
   "id": "5052a541-a81e-4b6a-8ffd-fc6c8e792640",
   "metadata": {},
   "source": [
    "## Set ALK, max/min for pCO2"
   ]
  },
  {
   "cell_type": "code",
   "execution_count": null,
   "id": "6126c897-0f3f-4e18-a7d4-9968f4d4b211",
   "metadata": {},
   "outputs": [],
   "source": [
    "# in umol/kg\n",
    "\n",
    "# Set ALK\n",
    "ALK_input = \n",
    "\n",
    "######### #########  #########\n",
    "# Variable pCO2\n",
    "\n",
    "# Set min pCO2\n",
    "pCO2min = \n",
    "# Set max pCO2\n",
    "pCO2max = \n",
    "# make array\n",
    "pCO2_input = np.arange(pCO2min,pCO2max,5)"
   ]
  },
  {
   "cell_type": "code",
   "execution_count": null,
   "id": "37a52b8c-4b25-42f4-8c8f-9a0773af3a0b",
   "metadata": {},
   "outputs": [],
   "source": [
    "CW = cb.Csys(T_in=T, S_in=S, TA=ALK_input, pCO2=pCO2_input, unit='umol') "
   ]
  },
  {
   "cell_type": "code",
   "execution_count": null,
   "id": "eab4cc12-00fb-433d-98e5-6f5b61d0417d",
   "metadata": {},
   "outputs": [],
   "source": [
    "fig = plt.figure(figsize=(10,6))\n",
    "plt.plot(pCO2_input,CW.pHtot)\n",
    "plt.ylabel('pH')\n",
    "plt.xlabel('pCO2 (uatm)')\n",
    "plt.title('pCO2 vs pH at fixed ALK')"
   ]
  },
  {
   "cell_type": "markdown",
   "id": "d4e96559-1ba7-4d03-a2a9-2a343dee6979",
   "metadata": {},
   "source": [
    "## Consider Revelle and Omega for last run"
   ]
  },
  {
   "cell_type": "code",
   "execution_count": null,
   "id": "1d9db30b-b76c-4d0e-a8be-52d5bbea7b23",
   "metadata": {},
   "outputs": [],
   "source": [
    "fig = plt.figure(figsize=(10,6))\n",
    "plt.plot(pCO2_input,CW.revelle_factor)\n",
    "plt.ylabel('Revelle Factor')\n",
    "plt.xlabel('pCO2 (uatm)')\n",
    "plt.title('pCO2 vs Revelle at fixed ALK')"
   ]
  },
  {
   "cell_type": "code",
   "execution_count": null,
   "id": "5d01732e-4d50-4a18-bb9c-a70f1f23a2c2",
   "metadata": {},
   "outputs": [],
   "source": [
    "fig = plt.figure(figsize=(10,6))\n",
    "plt.plot(pCO2_input,CW.OmegaA,label='Omega Aragonite')\n",
    "plt.plot(pCO2_input,CW.OmegaC,label='Omega Calcite')\n",
    "plt.ylabel('Omega')\n",
    "plt.xlabel('pCO2 (uatm)')\n",
    "plt.title('pCO2 vs Omega Aragonite and Omega Calcite at fixed ALK')\n",
    "plt.legend(frameon = True)"
   ]
  },
  {
   "cell_type": "code",
   "execution_count": null,
   "id": "b26a30b7-8909-4312-86c1-ef4d6405d1cb",
   "metadata": {},
   "outputs": [],
   "source": []
  },
  {
   "cell_type": "markdown",
   "id": "f6bbc5dd-7077-47a0-9ca8-5466abda6f34",
   "metadata": {},
   "source": [
    "## 3. Delta Cstar"
   ]
  },
  {
   "cell_type": "markdown",
   "id": "0ae630c3-f0a7-44a8-9f24-7c97f28072e5",
   "metadata": {},
   "source": [
    "The calculations of the problem use mmol/m3 (to be consistent with the literature)\n",
    "\n",
    "To be consistent with the rest of this notebook, we use a converstion factor to switch units to umol/kg here.  \n",
    "\n",
    "Note that umol/kg has the same order as mmol/m3 because conversion uses = density (~1027 kg/m3) / (1000 umol/mmol)"
   ]
  },
  {
   "cell_type": "code",
   "execution_count": null,
   "id": "2cbf154a-9f83-4b25-ba7c-35f61a58a5d7",
   "metadata": {},
   "outputs": [],
   "source": [
    "T = \n",
    "S = "
   ]
  },
  {
   "cell_type": "code",
   "execution_count": null,
   "id": "da35babf-a901-4a6b-81ce-f85a2bddee77",
   "metadata": {},
   "outputs": [],
   "source": [
    "# INPUT is in mmol/m3 here; converted below\n",
    "DIC_input =\n",
    "ALK_input = "
   ]
  },
  {
   "cell_type": "code",
   "execution_count": null,
   "id": "15987b50-ca01-462a-92f9-2723cdccb377",
   "metadata": {},
   "outputs": [],
   "source": [
    "# Factor to convert mmol/m3 to umol/kg\n",
    "unitconvert = (1027/1000)"
   ]
  },
  {
   "cell_type": "code",
   "execution_count": null,
   "id": "f270aba3-a9d9-48d4-964f-41249281c5df",
   "metadata": {},
   "outputs": [],
   "source": [
    "# input pCO2 in uatm (the function always takes uatm)\n",
    "pCO2_input = "
   ]
  },
  {
   "cell_type": "code",
   "execution_count": null,
   "id": "bc65116b-4225-449e-bd1d-063b00d40850",
   "metadata": {},
   "outputs": [],
   "source": [
    "CW = cb.Csys(T_in=T, S_in=S, TA=ALK_input*unitconvert, pCO2 = pCO2_input, unit='umol') "
   ]
  },
  {
   "cell_type": "code",
   "execution_count": null,
   "id": "b80ac8ec-7896-4a74-9f71-8331a19f146c",
   "metadata": {},
   "outputs": [],
   "source": [
    "CW"
   ]
  },
  {
   "cell_type": "code",
   "execution_count": null,
   "id": "cd5c7e4f-7b40-43a4-9a6e-ac97b53405af",
   "metadata": {},
   "outputs": [],
   "source": [
    "DIC_mmolm3 = CW.DIC/unitconvert"
   ]
  },
  {
   "cell_type": "code",
   "execution_count": null,
   "id": "3b002340-7543-4427-b18a-b2529149a033",
   "metadata": {},
   "outputs": [],
   "source": [
    "# print the solution of DIC in mmol/m3\n",
    "DIC_mmolm3"
   ]
  },
  {
   "cell_type": "code",
   "execution_count": null,
   "id": "10e914e1-c2fb-4999-8b00-6ddaa3cf7f18",
   "metadata": {},
   "outputs": [],
   "source": []
  }
 ],
 "metadata": {
  "kernelspec": {
   "display_name": "Python 3 (ipykernel)",
   "language": "python",
   "name": "python3"
  },
  "language_info": {
   "codemirror_mode": {
    "name": "ipython",
    "version": 3
   },
   "file_extension": ".py",
   "mimetype": "text/x-python",
   "name": "python",
   "nbconvert_exporter": "python",
   "pygments_lexer": "ipython3",
   "version": "3.12.4"
  }
 },
 "nbformat": 4,
 "nbformat_minor": 5
}
