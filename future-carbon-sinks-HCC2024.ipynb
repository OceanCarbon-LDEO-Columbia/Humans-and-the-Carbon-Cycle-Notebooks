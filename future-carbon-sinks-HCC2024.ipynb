{
 "cells": [
  {
   "cell_type": "markdown",
   "id": "147bd601-bcf2-44e1-adf4-766471368e9e",
   "metadata": {},
   "source": [
    "## Projecting land and ocean sinks with carbon-carbon and carbon-climate feedback factors \n",
    "\n",
    "- This notebook loads carbon-carbon and carbon-climate feedback factors (Table 5.5, IPCC AR6 WG1), as well as temperature and atmospheric CO2 concentration scenarios\\\n",
    "       - reference: IPCC AR6 Ch5 (https://www.ipcc.ch/report/ar6/wg1/downloads/report/IPCC_AR6_WGI_Chapter05.pdf) and Arora et al. 2020 (https://bg.copernicus.org/articles/17/4173/2020/)\n",
    "     - Note that CMIP6 Beta and Gamma factors were diagnosed from 1%/yr increasing CO2 runs to 4xCO2 (relative to preindustrial). This is most similar to the SSP585 scenario. \n",
    "     - For scenarios with slower increases or decreases in atmospheric CO2, results should become less accurate to what would occur in a full Earth System Model.\n",
    "     - See McKinley et al. 2023 for ocean sink estimates from ESMs under a range of scenarios.\n",
    "\n",
    "Student work to do\n",
    "- Choose future atmospheric CO2/warming scenarios (part 4)\n",
    "- Choose feedback factors (CMIP6 means used as default) (part 5)\n",
    "\n",
    "Notebook returns\n",
    "- Plots the cumulative ocean and land sinks\n",
    "- Outputs sink magnitudes in 2100\n",
    "\n",
    "For EESC4020 Humans and the Carbon Cycle, Columbia University, Fall 2024 \\\n",
    "    - Developed by G.A. McKinley and A. Shaum, Aug-Oct 2024"
   ]
  },
  {
   "cell_type": "code",
   "execution_count": null,
   "id": "7129a697-df70-4c66-a34a-657a55fc6369",
   "metadata": {},
   "outputs": [],
   "source": [
    "import pandas as pd\n",
    "import xarray as xr\n",
    "import numpy as np\n",
    "\n",
    "import matplotlib.pyplot as plt\n",
    "%matplotlib widget \n",
    "# ^ allows zooming in to the plots!\n",
    "\n",
    "import cmocean as cm    \n",
    "\n",
    "import gcsfs\n",
    "fs = gcsfs.GCSFileSystem()\n",
    "\n",
    "%run plotting_functions.ipynb"
   ]
  },
  {
   "cell_type": "markdown",
   "id": "6a58d6e5-2472-453d-b6bd-e80c589c72ab",
   "metadata": {},
   "source": [
    "## 1. Load and print the IPCC Feedback factors (AR6 WG1 Table 5.5)"
   ]
  },
  {
   "cell_type": "code",
   "execution_count": null,
   "id": "563ded78-d966-44df-8ca7-adb031cd3278",
   "metadata": {},
   "outputs": [],
   "source": [
    "ipcc_feedback = pd.read_csv('./data/ipcc_feedback_factors.csv')"
   ]
  },
  {
   "cell_type": "code",
   "execution_count": null,
   "id": "6df70c7f-73cb-47bb-a522-d2f001c090a4",
   "metadata": {},
   "outputs": [],
   "source": [
    "ipcc_feedback"
   ]
  },
  {
   "cell_type": "code",
   "execution_count": null,
   "id": "044bb87b-4d7a-4daa-a528-4ccc082145d3",
   "metadata": {},
   "outputs": [],
   "source": [
    "# Extract model mean values, used as default\n",
    "cmip6_modelmean_beta_land = float(ipcc_feedback['β_Land (PgC ppm⁻¹)'][10][0:5])\n",
    "cmip6_modelmean_gamma_land = float(ipcc_feedback['γ_Land (PgC K⁻¹)'][10][0:5])\n",
    "cmip6_modelmean_beta_ocean = float(ipcc_feedback['β_Ocean (PgC ppm⁻¹)'][10][0:5])\n",
    "cmip6_modelmean_gamma_ocean = float(ipcc_feedback['γ_Ocean (PgC K⁻¹)'][10][0:5])"
   ]
  },
  {
   "cell_type": "markdown",
   "id": "7d12447b-f2b6-493c-99fb-6ff080d4c615",
   "metadata": {},
   "source": [
    "## 2. Load, plot future Atmospheric CO2 Scenarios from IPCC"
   ]
  },
  {
   "cell_type": "code",
   "execution_count": null,
   "id": "ccfd6802-56a5-42f8-b06b-3c7dd8302748",
   "metadata": {},
   "outputs": [],
   "source": [
    "ssp_xco2 = pd.read_csv('./data/scenario_atm_co2.csv')\n",
    "\n",
    "# looking at 2015 through 2100:\n",
    "ssp_xco2 = ssp_xco2.loc[:,'Scenario'].to_frame().join(ssp_xco2.loc[:,'2015':'2100'])\n",
    "\n",
    "ssp_xco2.index = ssp_xco2['Scenario']\n",
    "ssp_xco2 = ssp_xco2.drop(columns=['Scenario'])\n",
    "\n",
    "scenarios = ['ssp119','ssp126','ssp245','ssp370','ssp434-over','ssp585']\n",
    "years = np.array(ssp_xco2.keys())\n",
    "\n",
    "xco2_119 = ssp_xco2.loc[scenarios[0]]\n",
    "xco2_126 = ssp_xco2.loc[scenarios[1]]\n",
    "xco2_245 = ssp_xco2.loc[scenarios[2]]\n",
    "xco2_370 = ssp_xco2.loc[scenarios[3]]\n",
    "xco2_434 = ssp_xco2.loc[scenarios[4]]\n",
    "xco2_585 = ssp_xco2.loc[scenarios[5]]"
   ]
  },
  {
   "cell_type": "code",
   "execution_count": null,
   "id": "c20c5a57-f3f8-4966-bdca-62814070bda4",
   "metadata": {},
   "outputs": [],
   "source": [
    "#  For plotting to make cumulative starting in 2015, so subtracting the year 2015 values from each year\n",
    "#xco2_119_start2015 = xco2_119.sub(xco2_119.iloc[0])\n",
    "#xco2_126_start2015 = xco2_126.sub(xco2_126.iloc[0])\n",
    "#xco2_245_start2015 = xco2_245.sub(xco2_245.iloc[0])\n",
    "#xco2_370_start2015 = xco2_370.sub(xco2_370.iloc[0])\n",
    "#xco2_434_start2015 = xco2_434.sub(xco2_434.iloc[0])\n",
    "#xco2_585_start2015 = xco2_585.sub(xco2_585.iloc[0])\n",
    "\n",
    "# For the calculation of the future impact of change in ocean sink, consider change from 2015\n",
    "ssp_xco2_start2015 = ssp_xco2-ssp_xco2[['2015']].values"
   ]
  },
  {
   "cell_type": "code",
   "execution_count": null,
   "id": "2ef8b95f-2ea2-4b86-bc15-b0783e941c4b",
   "metadata": {},
   "outputs": [],
   "source": [
    "plt.figure()\n",
    "plt.xlabel('year')\n",
    "plt.ylabel('Atmospheric CO$_2$ (ppm)')\n",
    "plt.title('Projected Atmospheric CO$_2$ 2015-2100')\n",
    "\n",
    "plt.xticks(ticks=[0,17,34,51,68,85],labels=years[::17]);\n",
    "\n",
    "# for no,t_array in enumerate([xco2_119_start2015,xco2_126_start2015,xco2_245_start2015,\n",
    "#                             xco2_370_start2015,xco2_434_start2015,xco2_585_start2015]):\n",
    "for no,t_array in enumerate([xco2_119,xco2_126,xco2_245,\n",
    "                             xco2_370,xco2_434,xco2_585]):\n",
    "    plt.plot(years,t_array,label=scenarios[no])\n",
    "\n",
    "plt.legend()"
   ]
  },
  {
   "cell_type": "markdown",
   "id": "96841209-4511-4eb6-800f-17ce77df0039",
   "metadata": {},
   "source": [
    "## 3. Load, plot future surface temperatures under these scenarios"
   ]
  },
  {
   "cell_type": "code",
   "execution_count": null,
   "id": "14e081f4-1373-4066-a0d6-2a1f8522d4c1",
   "metadata": {},
   "outputs": [],
   "source": [
    "ssp_temps = pd.read_csv('./data/scenario_temperatures.csv')\n",
    "\n",
    "# looking at 2015 through 2100:\n",
    "ssp_temps = ssp_temps.loc[:,'Scenario'].to_frame().join(ssp_temps.loc[:,'2015':'2100'])\n",
    "\n",
    "# to get the scenario name out of the data\n",
    "ssp_temps.index = ssp_temps['Scenario']\n",
    "ssp_temps = ssp_temps.drop(columns=['Scenario'])\n",
    "\n",
    "years = np.array(ssp_temps.keys())\n",
    "\n",
    "scenarios = ['ssp119','ssp126','ssp245','ssp370','ssp434-over','ssp585']\n",
    "\n",
    "temp119 = ssp_temps.loc[scenarios[0]]\n",
    "temp126 = ssp_temps.loc[scenarios[1]]\n",
    "temp245 = ssp_temps.loc[scenarios[2]]\n",
    "temp370 = ssp_temps.loc[scenarios[3]]\n",
    "temp434 = ssp_temps.loc[scenarios[4]]\n",
    "temp585 = ssp_temps.loc[scenarios[5]]"
   ]
  },
  {
   "cell_type": "code",
   "execution_count": null,
   "id": "1d351fd3-1dd2-4042-a669-3210a95a3550",
   "metadata": {},
   "outputs": [],
   "source": [
    "# to make cumulative starting in 2015, so subtracting the year 2015 values from each year\n",
    "temp119_start2015 = temp119.sub(temp119.iloc[0])\n",
    "temp126_start2015 = temp126.sub(temp126.iloc[0])\n",
    "temp245_start2015 = temp245.sub(temp245.iloc[0])\n",
    "temp370_start2015 = temp370.sub(temp370.iloc[0])\n",
    "temp434_start2015 = temp434.sub(temp434.iloc[0])\n",
    "temp585_start2015 = temp585.sub(temp585.iloc[0])\n",
    "\n",
    "ssp_temps_start2015 = ssp_temps-ssp_temps[['2015']].values"
   ]
  },
  {
   "cell_type": "code",
   "execution_count": null,
   "id": "4f074897-193b-46e0-a9eb-6c14c6226c6d",
   "metadata": {},
   "outputs": [],
   "source": [
    "plt.figure()\n",
    "plt.xlabel('year')\n",
    "plt.ylabel('degrees kelvin/celsius')\n",
    "plt.title('Global Mean Temperature Change from 2015-2100')\n",
    "\n",
    "plt.xticks(ticks=[0,17,34,51,68,85],labels=years[::17]);\n",
    "\n",
    "for no,t_array in enumerate([temp119_start2015,temp126_start2015,temp245_start2015,\n",
    "                             temp370_start2015,temp434_start2015,temp585_start2015]):\n",
    "    plt.plot(years,t_array,label=scenarios[no])\n",
    "\n",
    "plt.legend()"
   ]
  },
  {
   "cell_type": "markdown",
   "id": "aa790684-ab24-4091-a3e7-a68155fc2ca3",
   "metadata": {},
   "source": [
    "## 4. Select Future Scenario"
   ]
  },
  {
   "cell_type": "code",
   "execution_count": null,
   "id": "91afc37d-4351-4dc4-b405-8994a32674b2",
   "metadata": {},
   "outputs": [],
   "source": [
    "# choices: scenarios = ['ssp119','ssp126','ssp245','ssp370','ssp434-over','ssp585']\n",
    "scenario_choice = 'ssp585'"
   ]
  },
  {
   "cell_type": "code",
   "execution_count": null,
   "id": "d7550ee2-c5dc-4c75-a5db-e030117d11d3",
   "metadata": {},
   "outputs": [],
   "source": [
    "# select temperatures for selected scenario, starting in 2015\n",
    "temp_scenario = ssp_temps_start2015.loc[scenario_choice]\n",
    "# calculate delta xCO2 for selected scenario, relative to 2015\n",
    "del_xco2_scenario = ssp_xco2_start2015.loc[scenario_choice]"
   ]
  },
  {
   "cell_type": "markdown",
   "id": "821bcaf4-b26d-45b5-980c-2a377c06e683",
   "metadata": {},
   "source": [
    "## 5. Beta and Gamma values \n",
    "\n",
    "See directions in second cell to change Beta and Gamma from their default value"
   ]
  },
  {
   "cell_type": "code",
   "execution_count": null,
   "id": "142c527f-2914-4bc5-bd89-002f92b2f059",
   "metadata": {},
   "outputs": [],
   "source": [
    "# By default, takes CMIP6 mean values\n",
    "beta_land = cmip6_modelmean_beta_land\n",
    "gamma_land = cmip6_modelmean_gamma_land\n",
    "beta_ocean = cmip6_modelmean_beta_ocean\n",
    "gamma_ocean = cmip6_modelmean_gamma_ocean "
   ]
  },
  {
   "cell_type": "code",
   "execution_count": null,
   "id": "b8e1bb2f-c1c7-46c3-8b57-6f2fd1db56e6",
   "metadata": {},
   "outputs": [],
   "source": [
    "# To change beta and gamma from defaults, remove the # (i.e. uncomment) and enter alternative value\n",
    "# You can change one or more at a time. \n",
    "# If you with to return to default values, re-comment the line with #\n",
    "\n",
    "#beta_land = \n",
    "#gamma_land = \n",
    "#beta_ocean = \n",
    "#gamma_ocean = "
   ]
  },
  {
   "cell_type": "code",
   "execution_count": null,
   "id": "2b1e431d-6e8c-4da1-85dd-aef403f34862",
   "metadata": {},
   "outputs": [],
   "source": [
    "print('current beta land value:',beta_land)\n",
    "print('current gamma land value:',gamma_land)\n",
    "print('current beta ocean value:',beta_ocean)\n",
    "print('current gamma ocean value:',gamma_ocean)"
   ]
  },
  {
   "cell_type": "markdown",
   "id": "39946efd-c8b4-43f3-b1b4-d2429f36278b",
   "metadata": {},
   "source": [
    "## 6. Calculate the future land and ocean sinks, relative to 2015, plot and print cumulative value at 2100"
   ]
  },
  {
   "cell_type": "code",
   "execution_count": null,
   "id": "f61a05e4-ab9f-4c0f-bbcd-8c9bad42a109",
   "metadata": {},
   "outputs": [],
   "source": [
    "# land calculations\n",
    "del_carbon_land = beta_land * del_xco2_scenario + gamma_land * temp_scenario\n",
    "del_carbon_land_carbononly = beta_land * del_xco2_scenario\n",
    "del_carbon_land_temponly = gamma_land * temp_scenario\n",
    "\n",
    "# ocean calculations\n",
    "del_carbon_ocean = beta_ocean * del_xco2_scenario + gamma_ocean * temp_scenario\n",
    "del_carbon_ocean_carbononly = beta_ocean * del_xco2_scenario\n",
    "del_carbon_ocean_temponly =  gamma_ocean * temp_scenario"
   ]
  },
  {
   "cell_type": "code",
   "execution_count": null,
   "id": "f2c2a8c2-a6ea-4f4f-abb6-21465f636f38",
   "metadata": {},
   "outputs": [],
   "source": [
    "f,ax = plt.subplots(1,2,figsize=(12,5),sharey=True)\n",
    "f.suptitle(f'{scenario_choice}: land and ocean sinks')\n",
    "    \n",
    "ax[0].set_title(f'LAND: beta: {beta_land}, gamma: {gamma_land}',fontsize=10)\n",
    "ax[1].set_title(f'OCEAN: beta: {beta_ocean}, gamma: {gamma_ocean}',fontsize=10)\n",
    "\n",
    "ax[0].plot(del_carbon_land,c='red',label='Cumulative land sink from 2015')\n",
    "ax[0].plot(del_carbon_land_carbononly,c='green',label='land sink (carbon)')\n",
    "ax[0].plot(del_carbon_land_temponly,c='blue',label='land sink (temp)')\n",
    "\n",
    "ax[1].plot(del_carbon_ocean,c='red',label='Cumulative ocean sink from 2015')\n",
    "ax[1].plot(del_carbon_ocean_carbononly,c='green',label='ocean sink (carbon)')\n",
    "ax[1].plot(del_carbon_ocean_temponly,c='blue', label='ocean sink (temp)')\n",
    "\n",
    "ax[0].set_xticks(ticks=[0,17,34,51,68,85],labels=years[::17]);\n",
    "ax[1].set_xticks(ticks=[0,17,34,51,68,85],labels=years[::17]);\n",
    "\n",
    "ax[0].set_ylabel('Cumulative Carbon Sinks from 2015 (PgC)')\n",
    "\n",
    "ax[0].margins(x=0)\n",
    "ax[1].margins(x=0)\n",
    "\n",
    "# grid:\n",
    "ax[0].grid()\n",
    "ax[1].grid()\n",
    "\n",
    "# legend:\n",
    "ax[0].legend()\n",
    "ax[1].legend()"
   ]
  },
  {
   "cell_type": "code",
   "execution_count": null,
   "id": "e75fabf3-72ed-44b9-a031-919844775e22",
   "metadata": {},
   "outputs": [],
   "source": [
    "print(f'Cumulative land sink in 2100: {del_carbon_land.iloc[-1]} PgC \\n\\\n",
    "Cumulative ocean sink in 2100: {del_carbon_ocean.iloc[-1]} PgC \\n\\\n",
    "Combined sink 2100: {del_carbon_ocean.iloc[-1] + del_carbon_land.iloc[-1]} PgC')"
   ]
  },
  {
   "cell_type": "code",
   "execution_count": null,
   "id": "8d03d236-5118-4c81-9e5c-c1f5615efbe0",
   "metadata": {},
   "outputs": [],
   "source": []
  },
  {
   "cell_type": "code",
   "execution_count": null,
   "id": "47a5a60a-03dc-45f5-9600-82d6add6ddf5",
   "metadata": {},
   "outputs": [],
   "source": []
  }
 ],
 "metadata": {
  "kernelspec": {
   "display_name": "Python 3 (ipykernel)",
   "language": "python",
   "name": "python3"
  },
  "language_info": {
   "codemirror_mode": {
    "name": "ipython",
    "version": 3
   },
   "file_extension": ".py",
   "mimetype": "text/x-python",
   "name": "python",
   "nbconvert_exporter": "python",
   "pygments_lexer": "ipython3",
   "version": "3.12.4"
  }
 },
 "nbformat": 4,
 "nbformat_minor": 5
}
