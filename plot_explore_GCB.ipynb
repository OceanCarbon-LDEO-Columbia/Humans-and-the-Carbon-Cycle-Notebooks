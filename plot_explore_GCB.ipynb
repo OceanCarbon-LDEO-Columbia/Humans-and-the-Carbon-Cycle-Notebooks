{
 "cells": [
  {
   "cell_type": "markdown",
   "id": "9b95f5cb-a8bd-49e8-a18a-c400345e35c0",
   "metadata": {},
   "source": [
    "### Global Carbon Budget"
   ]
  },
  {
   "cell_type": "markdown",
   "id": "0c30d460-b481-4f1f-a9a7-c44aa98b8524",
   "metadata": {},
   "source": [
    "Plot GCB2023, with data through end 2022\n",
    "Consider impacts on the atmosphere if the ocean and land sinks had been of different magnitudes\n",
    "\n",
    "Designed for Humans and the Carbon Cycle, Fall 2024 (EESC GU 4020) at Columbia University \\\n",
    "August 7 2024 draft1 1, A. Shaum and Professor G.A. McKinley \\\n",
    "September 7 2024 for Problem Set 1"
   ]
  },
  {
   "cell_type": "code",
   "execution_count": null,
   "id": "6f32a3c6-5a49-48cc-a86b-fd26e075a54b",
   "metadata": {},
   "outputs": [],
   "source": [
    "# This file holds the plotting functions. It is required. \n",
    "%run plotting_functions.ipynb"
   ]
  },
  {
   "cell_type": "code",
   "execution_count": null,
   "id": "2fa71ffe-7b27-4b11-92f8-fb5797d003fc",
   "metadata": {},
   "outputs": [],
   "source": [
    "# Loading packages\n",
    "import pandas as pd\n",
    "import openpyxl # <- needed to open xlsx\n",
    "import xarray as xr\n",
    "import numpy as np\n",
    "\n",
    "import matplotlib.pyplot as plt\n",
    "%matplotlib widget \n",
    "# ^ allows zooming in to the plots!\n",
    "\n",
    "import cmocean as cm    \n",
    "\n",
    "import gcsfs\n",
    "fs = gcsfs.GCSFileSystem()"
   ]
  },
  {
   "cell_type": "markdown",
   "id": "10ace032-d083-49ee-a772-d1bfa9ecf7c3",
   "metadata": {},
   "source": [
    "### Load data from GCB2023, excel file released with paper"
   ]
  },
  {
   "cell_type": "code",
   "execution_count": null,
   "id": "43a306bb-d747-4b34-8bff-23c39fa1a77a",
   "metadata": {},
   "outputs": [],
   "source": [
    "# Data from the Global Carbon Budget, HistoricalBudget page \n",
    "# from file Global_Carbon_Budget_2023v1.0.xlsx at https://essd.copernicus.org/articles/15/5301/2023/\n",
    "GCB23historical = pd.read_excel('data/Global_Carbon_Budget_2023v1.1.xlsx',sheet_name='Historical Budget',skiprows=15,nrows=273)"
   ]
  },
  {
   "cell_type": "markdown",
   "id": "075b57cc-48de-484c-82f8-995092999c0b",
   "metadata": {},
   "source": [
    "### extract 1850 forward; stack plot as in Figure 3 of GCB\n",
    "\n",
    "Use historical file since the timeseries are already connected between the pre-modern and modern estimates"
   ]
  },
  {
   "cell_type": "code",
   "execution_count": null,
   "id": "5e35e3e4-eb86-4e14-9862-0bd70329e915",
   "metadata": {},
   "outputs": [],
   "source": [
    "GCB23historical1850 = GCB23historical[GCB23historical['Year'].between(1850,2023)]"
   ]
  },
  {
   "cell_type": "code",
   "execution_count": null,
   "id": "5a8e5078-5a0f-44e0-994e-e8a2853cd1da",
   "metadata": {},
   "outputs": [],
   "source": [
    "GCB23historical1850"
   ]
  },
  {
   "cell_type": "markdown",
   "id": "1c2dbe8b-9459-4f19-85bd-eda29108ba56",
   "metadata": {},
   "source": [
    "### Stacked plot has emissions (positive) and sinks (negative). Sinks include atmosphere. Each source / sink is progressively added. \n",
    "\n",
    "This is a closed system, so the sum of sources must equal the sum of sinks. The red dash line mirrors the total emissions. If we knew the budgets perfectly, the red dash line would fall on the atmosphere exactly. The lack of concurrence indicates our inability to precisely close the budget."
   ]
  },
  {
   "cell_type": "code",
   "execution_count": null,
   "id": "96da2f1b-4679-4eac-a2d5-faed596b333d",
   "metadata": {},
   "outputs": [],
   "source": [
    "# getting total time range\n",
    "time = GCB23historical1850['Year']\n",
    "\n",
    "# calculating emissions\n",
    "fossil_fuels = GCB23historical1850['fossil emissions excluding carbonation']\n",
    "land_use = GCB23historical1850['land-use change emissions']\n",
    "\n",
    "total_emissions = fossil_fuels + land_use\n",
    "\n",
    "# calculating sinks: made negative to emphasize that they are SINKS!\n",
    "ocean_sink = -GCB23historical1850['ocean sink']\n",
    "land_sink = -GCB23historical1850['land sink']\n",
    "atmo_sink = -GCB23historical1850['atmospheric growth']"
   ]
  },
  {
   "cell_type": "markdown",
   "id": "904d20e6-e878-4141-bc0b-ffb7b13e31a6",
   "metadata": {},
   "source": [
    "### 1. Plot GCB2023\n",
    "Use the functions in top left to zoom in\\\n",
    "Click on floppy disk icon to save PNG to desktop"
   ]
  },
  {
   "cell_type": "code",
   "execution_count": null,
   "id": "99dc7584-a841-46e1-84b0-1c9f9bfb39e1",
   "metadata": {},
   "outputs": [],
   "source": [
    "fig = GCB_plot(time, total_emissions,land_use,ocean_sink,land_sink,oceanfactor=1,landfactor=1)"
   ]
  },
  {
   "cell_type": "markdown",
   "id": "5f7b4672-8e30-4682-8b90-6971a2b4c4f7",
   "metadata": {},
   "source": [
    "## 1a. Add a factor to ocean or land sink and see what would have happened to atmosphere if this sink had been smaller"
   ]
  },
  {
   "cell_type": "markdown",
   "id": "07f8f614-1bf5-4a8a-9ecf-4636d347aa87",
   "metadata": {},
   "source": [
    "Define a value between 0 and 1 to scale the estimated ocean and land sinks"
   ]
  },
  {
   "cell_type": "code",
   "execution_count": null,
   "id": "aaa3c146-0455-414e-8375-31c613470b9a",
   "metadata": {},
   "outputs": [],
   "source": [
    "# Run this cell to set the factors you want to use\n",
    "ocean_scale = 0.5\n",
    "land_scale = 0.5"
   ]
  },
  {
   "cell_type": "code",
   "execution_count": null,
   "id": "e269fa0f-03e7-421c-8b97-59282820683a",
   "metadata": {},
   "outputs": [],
   "source": [
    "fig = GCB_plot(time, total_emissions,land_use,ocean_sink,land_sink,oceanfactor=ocean_scale,landfactor=land_scale)"
   ]
  },
  {
   "cell_type": "markdown",
   "id": "2809355b-476f-4548-a685-b95bc0d0cea4",
   "metadata": {},
   "source": [
    "## 1b. Direct comparison of actual budget to modified"
   ]
  },
  {
   "cell_type": "code",
   "execution_count": null,
   "id": "6d206978-7b05-4d35-b163-3c7cc1d5edbe",
   "metadata": {},
   "outputs": [],
   "source": [
    "fig = GCBcompare_scale(time, total_emissions,land_use,ocean_sink,land_sink,oceanfactor=ocean_scale,landfactor=land_scale)"
   ]
  },
  {
   "cell_type": "markdown",
   "id": "ee005a3a-749c-4f30-8628-37413e3d87de",
   "metadata": {},
   "source": [
    "## 2. Bar plot comparing cumulative emissions to cumulative sinks from 1850 to 2022\n",
    "Click on floppy disk icon to save PNG to desktop"
   ]
  },
  {
   "cell_type": "code",
   "execution_count": null,
   "id": "849aefac-3366-4d55-88eb-d5ddb0b5b021",
   "metadata": {},
   "outputs": [],
   "source": [
    "bar_plot(fossil_fuels,land_use,land_sink,ocean_sink,atmo_sink)"
   ]
  },
  {
   "cell_type": "markdown",
   "id": "c82af645-d3b5-4fe5-8ac8-0e0cd01ccd0b",
   "metadata": {},
   "source": [
    "## 2a. Apply scalings to land and ocean sinks and plot"
   ]
  },
  {
   "cell_type": "code",
   "execution_count": null,
   "id": "0090c8ac-5217-4d7c-9675-f0f46e5309c7",
   "metadata": {},
   "outputs": [],
   "source": [
    "bar_plot(fossil_fuels,land_use,land_sink,ocean_sink,atmo_sink,oceanfactor=ocean_scale,landfactor=land_scale)"
   ]
  },
  {
   "cell_type": "markdown",
   "id": "157315e6-8a78-45f4-ae59-704c0ea8c7e9",
   "metadata": {},
   "source": [
    "## 3. Sum the atmosphere from 1959 onward and compare to Mauna Loa CO2 observations \n",
    "\n",
    "Then will apply factor for \"what if ocean were stronger or weaker\" and can see impact to atmosphere"
   ]
  },
  {
   "cell_type": "code",
   "execution_count": null,
   "id": "59859588-38bd-4fea-884f-46c7f3b56d99",
   "metadata": {},
   "outputs": [],
   "source": [
    "# data source for CO2 mole fraction (ppm) measured monthly at Mauna Loa since 1958\n",
    "# https://gml.noaa.gov/webdata/ccgg/trends/co2/co2_mm_mlo.csv\n",
    "\n",
    "# The atmosphere is rapidly mixed by the winds, so this timeseries is a good proxy for the global mean atmospheric pCO2\n",
    "xCO2atm_ML = pd.read_csv('data/co2_mm_mlo.csv', skiprows=40,nrows=796) "
   ]
  },
  {
   "cell_type": "code",
   "execution_count": null,
   "id": "b8a4a526-ce0c-4e9e-b30e-8b742dd26300",
   "metadata": {},
   "outputs": [],
   "source": [
    "# Since the mauna loa starts in mid-1958, we restrict the data to starting 1959\n",
    "GCB23historical1959 = GCB23historical[GCB23historical['Year'].between(1959,2023)]"
   ]
  },
  {
   "cell_type": "markdown",
   "id": "349b4ae2-3e84-45b7-a8c8-86f396409335",
   "metadata": {},
   "source": [
    "### Compare the atmospheric record in the Global Carbon Budget to that observed at Mauna Loa, Hawai'i"
   ]
  },
  {
   "cell_type": "markdown",
   "id": "8f3e231d-67e2-42cc-838c-1f134a6a114c",
   "metadata": {},
   "source": [
    "This plotting function used here \\\n",
    "(1) sums the atmospheric growth from GCB to get cumulative GtC \\\n",
    "(2) converts to ppm using 2.124GtC = 1 ppm \\\n",
    "(3) adds to the 1958 value of 315ppm \n",
    "\n",
    "See plotting_functions.ipynb for detail"
   ]
  },
  {
   "cell_type": "markdown",
   "id": "e13bc448-920d-4e3e-ac62-29ecabecc56f",
   "metadata": {},
   "source": [
    "### Plot Mauna Loa vs. GCB\n",
    "Use the functions in top left to zoom in \\\n",
    "Click on floppy disk icon to save PNG to desktop"
   ]
  },
  {
   "cell_type": "code",
   "execution_count": null,
   "id": "d47a91b8-075a-4f10-8a53-cc2e31121acc",
   "metadata": {},
   "outputs": [],
   "source": [
    "atmospheric_co2_plot(GCB23historical1959, xCO2atm_ML)"
   ]
  },
  {
   "cell_type": "markdown",
   "id": "87386612-c191-4b0f-a5e9-bfb839c594dc",
   "metadata": {},
   "source": [
    "The Mauna Loa monthly data and our integration of the GCB annual growth rate give the same estimate of global atmospheric CO2 "
   ]
  },
  {
   "cell_type": "markdown",
   "id": "fceb15df-ef52-4141-b5db-78243d97d43d",
   "metadata": {},
   "source": [
    "## 3a. Apply scalings to land and ocean sinks and plot. How would atmospheric pCO2 have been different? \n",
    "Use the functions in top left to zoom in"
   ]
  },
  {
   "cell_type": "code",
   "execution_count": null,
   "id": "ccb8ef6b-2dc5-4eb6-886c-1f21c5bd6a2e",
   "metadata": {},
   "outputs": [],
   "source": [
    "atmospheric_co2_plot(GCB23historical1959, xCO2atm_ML, oceanfactor=ocean_scale, landfactor=land_scale)"
   ]
  }
 ],
 "metadata": {
  "kernelspec": {
   "display_name": "Python 3 (ipykernel)",
   "language": "python",
   "name": "python3"
  },
  "language_info": {
   "codemirror_mode": {
    "name": "ipython",
    "version": 3
   },
   "file_extension": ".py",
   "mimetype": "text/x-python",
   "name": "python",
   "nbconvert_exporter": "python",
   "pygments_lexer": "ipython3",
   "version": "3.12.4"
  }
 },
 "nbformat": 4,
 "nbformat_minor": 5
}
