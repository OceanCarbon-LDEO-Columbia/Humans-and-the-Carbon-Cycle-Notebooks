{
 "cells": [
  {
   "cell_type": "markdown",
   "id": "147bd601-bcf2-44e1-adf4-766471368e9e",
   "metadata": {},
   "source": [
    "## Projecting emissions with the kaya identity\n",
    "\n",
    "- Using data from Our World in Data for population and GDP for 1970-2023\n",
    "- Use 1970 values from Our World in Data and apply historical improvement rates for CO2 intensity of energy and Energy intensity of economy to project to 2023 (from class reading)\n",
    "- Apply Kaya Identity to estimate historical CO2 emissions\n",
    "- Based on class reading, consider how emissions are different in different wealth classes \n",
    "\n",
    "** Students must enter values in section 2 and in section 5 **\n",
    "\n",
    "For EESC4020 Humans and the Carbon Cycle, Columbia University, Fall 2024 \\\n",
    "    - Developed by G.A. McKinley. Oct 2024"
   ]
  },
  {
   "cell_type": "code",
   "execution_count": null,
   "id": "7129a697-df70-4c66-a34a-657a55fc6369",
   "metadata": {},
   "outputs": [],
   "source": [
    "import pandas as pd\n",
    "import xarray as xr\n",
    "import numpy as np\n",
    "\n",
    "import matplotlib.pyplot as plt\n",
    "%matplotlib widget \n",
    "# ^ allows zooming in to the plots!\n",
    "\n",
    "import cmocean as cm    \n",
    "\n",
    "import gcsfs\n",
    "fs = gcsfs.GCSFileSystem()\n",
    "\n",
    "%run plotting_functions.ipynb"
   ]
  },
  {
   "cell_type": "markdown",
   "id": "5bac870a-46bd-4953-a834-31451bff7217",
   "metadata": {},
   "source": [
    "## 0. Set Constants"
   ]
  },
  {
   "cell_type": "code",
   "execution_count": null,
   "id": "7fb11fa6-4635-4291-b477-7371582d6c7c",
   "metadata": {},
   "outputs": [],
   "source": [
    "# Define the constants\n",
    "start_year = 1970\n",
    "end_year = 2023"
   ]
  },
  {
   "cell_type": "markdown",
   "id": "be118a8c-3ecf-472f-930d-e9338ab9c2d1",
   "metadata": {},
   "source": [
    "## 1. Load Population and GDP from 1970-2023\n",
    "\n",
    "https://ourworldindata.org/population-growth#explore-data-on-population-growth \\\n",
    "https://ourworldindata.org/grapher/national-gdp-constant-usd-wb?tab=chart&country=~OWID_WRL\n"
   ]
  },
  {
   "cell_type": "code",
   "execution_count": null,
   "id": "e941dbff-8981-4249-89d9-95638eae7c48",
   "metadata": {},
   "outputs": [],
   "source": [
    "population = pd.read_csv('WorldPopulation19702023.csv')"
   ]
  },
  {
   "cell_type": "code",
   "execution_count": null,
   "id": "2db09e52-dd0c-4485-93da-e224f4a7ff51",
   "metadata": {},
   "outputs": [],
   "source": [
    "plt.figure(figsize=(10, 6))\n",
    "plt.xlabel('year')\n",
    "plt.ylabel('Population')\n",
    "plt.title('Population')\n",
    "plt.plot(population[\"year\"],population[\"world_population\"], color='c')\n",
    "plt.grid(True)\n",
    "plt.show()"
   ]
  },
  {
   "cell_type": "code",
   "execution_count": null,
   "id": "9850aa0c-ed5a-425e-a445-a04f4bf2e38a",
   "metadata": {},
   "outputs": [],
   "source": [
    "column_names = [\"Year\", \"World_GDP\"]\n",
    "GDP = pd.read_csv(\"GDP19702023.csv\", names=column_names)"
   ]
  },
  {
   "cell_type": "code",
   "execution_count": null,
   "id": "ccbee518-ab5d-4b38-9b5b-7ef2c9925f64",
   "metadata": {},
   "outputs": [],
   "source": [
    "plt.figure(figsize=(10, 6))\n",
    "plt.xlabel('year')\n",
    "plt.ylabel('GDP (2015 USD)')\n",
    "plt.title('World GDP')\n",
    "plt.plot(GDP[\"Year\"],GDP[\"World_GDP\"], color='g')\n",
    "plt.grid(True)\n",
    "plt.show()"
   ]
  },
  {
   "cell_type": "markdown",
   "id": "48e27116-ec62-4eb1-99a9-2ab7ae031b3c",
   "metadata": {},
   "source": [
    "## 2. Using the historical growth rate of CO$_2$ intensity of energy and the 1970 initial value, estimate the timeseries 1970-2023"
   ]
  },
  {
   "cell_type": "code",
   "execution_count": null,
   "id": "abd97fe1-bd4d-4030-a2c4-b9ded73e9c71",
   "metadata": {},
   "outputs": [],
   "source": [
    "# 1970 CO2 Intensity of Energy (Our World in Data) =  0.26 kgCO$_2$/kWh\n",
    "CO2Energy1970 = 0.26"
   ]
  },
  {
   "cell_type": "code",
   "execution_count": null,
   "id": "d1faee7c-6d16-4ad0-9e55-441d871d62ec",
   "metadata": {},
   "outputs": [],
   "source": [
    "# Rate of historical improvement in CO2 Intensity of Energy (1971-2010, from reading/lecture)\n",
    "# *** If the data you enter is given in percentage, it needs to be divided by 100 *** \n",
    "# *** An \"improvement\" here means a negative number  *** \n",
    "rCO2Energy =    ## Student enters value here\n",
    "# *** If the data you enter is given in percentage, it needs to be divided by 100 *** \n",
    "# *** An \"improvement\" here means a negative number  *** "
   ]
  },
  {
   "cell_type": "code",
   "execution_count": null,
   "id": "36294983-9283-4771-8690-80dc2593ab37",
   "metadata": {
    "scrolled": true
   },
   "outputs": [],
   "source": [
    "# Use the initial value and the \n",
    "# Initialize the CO2Energy dictionary with 1970 value\n",
    "CO2Energy = {1970: CO2Energy1970}  \n",
    "# Calculate CO2Energy for each year\n",
    "for year in range(start_year + 1, end_year + 1):\n",
    "    CO2Energy[year] = CO2Energy[year - 1] *(1 + rCO2Energy) "
   ]
  },
  {
   "cell_type": "code",
   "execution_count": null,
   "id": "f79e509e-6c13-471b-9290-0d8b2d4e3985",
   "metadata": {},
   "outputs": [],
   "source": [
    "years = list(CO2Energy.keys())\n",
    "CO2Energy19702023 = np.array(list(CO2Energy.values()))\n",
    "\n",
    "plt.figure(figsize=(10, 6))\n",
    "plt.xlabel('year')\n",
    "plt.ylabel('CO$_2$ energy intensity (kgCO$_2$/kWh)')\n",
    "plt.title('CO$_2$ energy intensity')\n",
    "plt.plot(years, CO2Energy19702023, color='b', label='CO₂ Energy')\n",
    "plt.legend()\n",
    "plt.grid(True)\n",
    "plt.show()"
   ]
  },
  {
   "cell_type": "code",
   "execution_count": null,
   "id": "e5f5de59-fc2a-4382-b939-e7a1fea27ec0",
   "metadata": {},
   "outputs": [],
   "source": [
    "# 1970 Energy Intensity of the Economy = 2.9 kWh/$GDP   (primary energy)\n",
    "EnergyInt1970 = 2.9"
   ]
  },
  {
   "cell_type": "code",
   "execution_count": null,
   "id": "73fd3b85-5268-475a-ad68-ac401839d682",
   "metadata": {},
   "outputs": [],
   "source": [
    "# Rate of historical improvement in Energy Intensity of the Economy (1971-2010, from reading/lecture)\n",
    "# *** If the data you enter is given in percentage, it needs to be divided by 100 *** \n",
    "# *** An \"improvement\" here means a negative number  *** \n",
    "rEnergyInt =    ## Student enters value here\n",
    "# *** If the data you enter is given in percentage, it needs to be divided by 100 *** \n",
    "# *** An \"improvement\" here means a negative number  *** "
   ]
  },
  {
   "cell_type": "code",
   "execution_count": null,
   "id": "7242e409-acf1-42cc-9e31-e8c7a32997b3",
   "metadata": {},
   "outputs": [],
   "source": [
    "# Use the initial value and the \n",
    "# Initialize the Energy Intensity dictionary with 1970 value\n",
    "EnergyInt = {1970: EnergyInt1970}  \n",
    "# Calculate Energy Intensity for each year\n",
    "for year in range(start_year + 1, end_year + 1):\n",
    "    EnergyInt[year] = EnergyInt[year - 1] * (1+ rEnergyInt)"
   ]
  },
  {
   "cell_type": "code",
   "execution_count": null,
   "id": "bd080240-5d84-40a2-b3d4-06f0089c729b",
   "metadata": {},
   "outputs": [],
   "source": [
    "years = list(EnergyInt.keys())\n",
    "EnergyInt19702023 = np.array(list(EnergyInt.values()))\n",
    "\n",
    "plt.figure(figsize=(10, 6))\n",
    "plt.xlabel('year')\n",
    "plt.ylabel('Energy intensity of Economy (kWh/GDP)')\n",
    "plt.title('Energy intensity of Economy')\n",
    "plt.plot(years, EnergyInt19702023, color='r', label='Energy intensity')\n",
    "plt.legend()\n",
    "plt.grid(True)\n",
    "plt.show()"
   ]
  },
  {
   "attachments": {},
   "cell_type": "markdown",
   "id": "8f262c13-1a69-4f41-9c6a-98dcd14e85a4",
   "metadata": {},
   "source": [
    "## 3. Use Kaya Identity to estimate emissions 1970-2023\n",
    "\n",
    "Combine the values above to estimate historical CO$_2$ Emissions\n",
    "\n",
    "Actual 2023 emissions were 35.3 GtCO2/yr (Global Carbon Budget 2023, Friedlingstein et al. 2023). \\\n",
    "Your numbers will not be exact, but you should be in the ballpark (+- 5 GtCO2/yr)"
   ]
  },
  {
   "cell_type": "code",
   "execution_count": null,
   "id": "4f77961e-88ea-40c4-9f4e-8d245c900450",
   "metadata": {},
   "outputs": [],
   "source": [
    "GDPdata = np.array(GDP[\"World_GDP\"])\n",
    "population_data = np.array(population[\"world_population\"])"
   ]
  },
  {
   "cell_type": "code",
   "execution_count": null,
   "id": "04fa43c5-53fe-416d-91d8-4058a8bb8c9e",
   "metadata": {
    "scrolled": true
   },
   "outputs": [],
   "source": [
    "CO2emission = CO2Energy19702023*EnergyInt19702023*(GDPdata/population_data)*population_data"
   ]
  },
  {
   "cell_type": "code",
   "execution_count": null,
   "id": "da3162a3-5812-4ba9-b680-80ac6ef2404e",
   "metadata": {},
   "outputs": [],
   "source": [
    "CO2emissionPgCyr = CO2emission*1000/1e15 # in PgC/yr"
   ]
  },
  {
   "cell_type": "code",
   "execution_count": null,
   "id": "3d131f05-d1b7-4b60-a756-3bdf51e3f28d",
   "metadata": {},
   "outputs": [],
   "source": [
    "plt.figure(figsize=(10, 6))\n",
    "plt.xlabel('year')\n",
    "plt.ylabel('CO$_2$ Emission (PgC/yr)')\n",
    "plt.title('Historical CO$_2$ Emissions 1970-2023')\n",
    "plt.plot(years, CO2emissionPgCyr, color='k', label='CO$_2$ Emission')\n",
    "plt.legend()\n",
    "plt.grid(True)\n",
    "plt.show()"
   ]
  },
  {
   "cell_type": "markdown",
   "id": "cd2a3db0-762d-4af5-9938-4fd1bf5590cb",
   "metadata": {},
   "source": [
    "## 4. Estimate per capita Emissions"
   ]
  },
  {
   "cell_type": "code",
   "execution_count": null,
   "id": "d6109d4f-2381-4dc8-bc1a-00f7914efb46",
   "metadata": {},
   "outputs": [],
   "source": [
    "CO2emission_percapita = CO2Energy19702023*EnergyInt19702023*(GDPdata/population_data)/1000"
   ]
  },
  {
   "cell_type": "code",
   "execution_count": null,
   "id": "5a302845-5bd1-4eda-bd35-515e1d0addc9",
   "metadata": {},
   "outputs": [],
   "source": [
    "plt.figure(figsize=(10, 6))\n",
    "plt.xlabel('year')\n",
    "plt.ylabel('CO$_2$ Emission (ton CO$_2$/person/yr)')\n",
    "plt.title('Historical CO$_2$ Emissions per capita 1970-2023')\n",
    "plt.plot(years, CO2emission_percapita, color='k', label='CO$_2$ Emission per capita')\n",
    "plt.legend()\n",
    "plt.grid(True)\n",
    "plt.show()"
   ]
  },
  {
   "cell_type": "markdown",
   "id": "3d89e1b0-5849-4c05-9260-020a50958951",
   "metadata": {},
   "source": [
    "## 5. Breakdown the per capita emissions by wealth groups: top 10%, middle 40%, bottom 50%\n",
    "\n",
    "Based on the reading and lecture, use reasonable values to distinguish the per capita emissions of these groups. \n",
    "\n",
    "It is not the case that these distinctions have been constant over 1970-2023, but for simplicity, we apply them as constants\n",
    "\n",
    "The sum of your \"split\" should be roughly (not perfectly is OK!) equal to the world per capita (compare the bold and dash solid lines in the graph to ensure this)"
   ]
  },
  {
   "cell_type": "code",
   "execution_count": null,
   "id": "47e622a8-43af-4eed-9aeb-9607ed044250",
   "metadata": {},
   "outputs": [],
   "source": [
    "# Top 10% Factor\n",
    "factor10 =  # Student Enters Value Here\n",
    "# Middle 40% Factor\n",
    "factor40 =  # Student Enters Value Here\n",
    "# Bottom 50% Factor\n",
    "factor50 =   # Student Enters Value Here"
   ]
  },
  {
   "cell_type": "code",
   "execution_count": null,
   "id": "55c98b35-adc0-4a02-87f1-83dd33c5c77e",
   "metadata": {},
   "outputs": [],
   "source": [
    "CO2emission_percapita_split = .1*CO2emission_percapita*factor10  + .4*CO2emission_percapita*factor40 + .5*CO2emission_percapita*factor50"
   ]
  },
  {
   "cell_type": "code",
   "execution_count": null,
   "id": "ea3c9476-6fe9-4e17-8dde-014261eda460",
   "metadata": {},
   "outputs": [],
   "source": [
    "plt.figure(figsize=(10, 6))\n",
    "plt.xlabel('year')\n",
    "plt.ylabel('CO$_2$ Emission (ton CO$_2$/person/yr)')\n",
    "plt.title('Historical CO$_2$ Emissions per capita 1970-2023')\n",
    "plt.plot(years, CO2emission_percapita, color='k', label='CO$_2$ Emission per capita')\n",
    "plt.plot(years, CO2emission_percapita_split, color='k', linestyle = '--', label='CO$_2$ Emission per capita sum of your split')\n",
    "plt.plot(years, CO2emission_percapita*factor10, color='r',linestyle = '--', label=('CO$_2$ Emission per capita, top 10%; x' + str(round(factor10,1))))\n",
    "plt.plot(years, CO2emission_percapita*factor40, color='g', linestyle = '--',label=('CO$_2$ Emission per capita, middle 40%; x' + str(round(factor40,1))))\n",
    "plt.plot(years, CO2emission_percapita*factor50, color='b',linestyle = '--', label=('CO$_2$ Emission per capita, bottom 50%; x' + str(round(factor50,1))))\n",
    "plt.legend()\n",
    "plt.grid(True)\n",
    "plt.show()"
   ]
  }
 ],
 "metadata": {
  "kernelspec": {
   "display_name": "Python 3 (ipykernel)",
   "language": "python",
   "name": "python3"
  },
  "language_info": {
   "codemirror_mode": {
    "name": "ipython",
    "version": 3
   },
   "file_extension": ".py",
   "mimetype": "text/x-python",
   "name": "python",
   "nbconvert_exporter": "python",
   "pygments_lexer": "ipython3",
   "version": "3.12.7"
  }
 },
 "nbformat": 4,
 "nbformat_minor": 5
}
