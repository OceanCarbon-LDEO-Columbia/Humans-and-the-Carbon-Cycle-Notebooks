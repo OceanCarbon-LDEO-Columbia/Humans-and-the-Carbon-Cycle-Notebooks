{
 "cells": [
  {
   "cell_type": "markdown",
   "id": "b2332bdd-50be-4041-8a85-b12cc50c5163",
   "metadata": {},
   "source": [
    "## Allowable Emissions, Emissions Growth Rates and Engineered CDR\n",
    "\n",
    "- Allowable emissions account for future ocean and land sinks as estimated by ESMs, and thus allowable emissions can be used as proxy for climate goals. \n",
    "- Can we get to net allowable with reasonable mitigation rates and/or reasonably expected growth rates for CDR implementation?\n",
    "- How many Direct Air Capture (DAC) plants are implied? \n",
    "    \n",
    "For EESC4020 Humans and the Carbon Cycle, Columbia University, Fall 2024 \\\n",
    "    - Developed by G.A. McKinley. Oct/Nov 2024"
   ]
  },
  {
   "cell_type": "markdown",
   "id": "b347c793-29a8-4741-9bd0-be7c0bffd878",
   "metadata": {},
   "source": [
    "## Options to be explored by Students\n",
    "1. Mitigation (section 2b)\n",
    "     - Is the rate of mitigation implementation linear (GtC/yr) or exponential (%/yr)? \n",
    "     - How fast is mitigation implemented?\n",
    "2. CDR (section 4)\n",
    "    - Is the rate of CDR implementation linear (GtC/yr) or exponential (%/yr)?\n",
    "    - How fast is CDR implemented? "
   ]
  },
  {
   "cell_type": "code",
   "execution_count": null,
   "id": "2e3f7bf4-817c-449d-a8e0-8f9256fd6ef0",
   "metadata": {},
   "outputs": [],
   "source": [
    "import pandas as pd\n",
    "import xarray as xr\n",
    "import numpy as np\n",
    "\n",
    "import matplotlib.pyplot as plt\n",
    "%matplotlib widget \n",
    "# ^ allows zooming in to the plots!\n",
    "\n",
    "import cmocean as cm    \n",
    "\n",
    "import gcsfs\n",
    "fs = gcsfs.GCSFileSystem()\n",
    "\n",
    "%run plotting_functions.ipynb"
   ]
  },
  {
   "cell_type": "markdown",
   "id": "a5721043-87c5-4f6b-b1b3-a523df6c78b3",
   "metadata": {},
   "source": [
    "## 0. Start and end years"
   ]
  },
  {
   "cell_type": "code",
   "execution_count": null,
   "id": "708b22c7-3c82-4c1f-9fa7-904c2b6aab74",
   "metadata": {},
   "outputs": [],
   "source": [
    "start_year = 2023\n",
    "end_year = 2075"
   ]
  },
  {
   "cell_type": "markdown",
   "id": "c7e34065-d005-48a9-afa6-6e7cfc3fc475",
   "metadata": {},
   "source": [
    "## 1. Inputs, GCB 2023 (Friedlingstein et al. 2023)"
   ]
  },
  {
   "cell_type": "markdown",
   "id": "7ba4803a-5e87-42f0-a7c3-eaa33f4be63b",
   "metadata": {},
   "source": [
    "### Current emission rate 2023, in GtC/yr (Table 7) "
   ]
  },
  {
   "cell_type": "code",
   "execution_count": null,
   "id": "98985961-5443-4372-83dd-9dcf10c30d2e",
   "metadata": {},
   "outputs": [],
   "source": [
    "# GtC/yr\n",
    "rate_emission_2023 = 11.1"
   ]
  },
  {
   "cell_type": "markdown",
   "id": "aa24cfce-e882-4f9d-8e53-ff6a7c4a2c76",
   "metadata": {},
   "source": [
    "### Allowable Emissions Threshholds at 50% likelihood, in GtC (GCB2023, Section 4)"
   ]
  },
  {
   "cell_type": "code",
   "execution_count": null,
   "id": "11bc45d7-e010-423c-a9c7-3b1d53d022d5",
   "metadata": {},
   "outputs": [],
   "source": [
    "#GtC\n",
    "allowable_1p5C = 75\n",
    "allowable_1p7C = 175\n",
    "allowable_2C = 315"
   ]
  },
  {
   "cell_type": "markdown",
   "id": "f0a5e8be-ccd3-404a-a698-db4f60d560b9",
   "metadata": {},
   "source": [
    "## 2. Project emissions with historical growth rate and new growth rate reflecting mitigation"
   ]
  },
  {
   "cell_type": "markdown",
   "id": "a2a8b009-977a-40d4-8e64-91e0a0b8b1b5",
   "metadata": {},
   "source": [
    "### 2a. Recent historical growth rate"
   ]
  },
  {
   "cell_type": "code",
   "execution_count": null,
   "id": "ade317c5-79bd-4f97-81e2-2d6e30db74a8",
   "metadata": {},
   "outputs": [],
   "source": [
    "# 2022 and 2023 estimates growth rate of FF emissions, in % / yr  and  LUC emissions approximately constant (GCB 2023)\n",
    "historical_growth = 1 "
   ]
  },
  {
   "cell_type": "code",
   "execution_count": null,
   "id": "ecc8e36e-3bf5-45b8-b985-cce975fada6a",
   "metadata": {},
   "outputs": [],
   "source": [
    "# Initialize the emission dictionary \n",
    "emission_historical_rate = {2023: rate_emission_2023}  \n",
    "emission_historical_cum={2023 : rate_emission_2023}\n",
    "# Calculate emissions for each year\n",
    "for year in range(start_year + 1, end_year + 1):\n",
    "    emission_historical_rate[year] = emission_historical_rate[year - 1] * (1+ historical_growth/100)\n",
    "    emission_historical_cum[year] = emission_historical_cum[year-1] + emission_historical_rate[year]"
   ]
  },
  {
   "cell_type": "code",
   "execution_count": null,
   "id": "10dd88ed-659b-4167-af6f-fa94c78a9936",
   "metadata": {},
   "outputs": [],
   "source": [
    "# In what year do the allowable targets get crossed with historical growth rate\n",
    "print(f\"With emissions growing at {historical_growth} %/yr\")\n",
    "\n",
    "value_to_find = allowable_1p5C\n",
    "key = next((k for k, v in emission_historical_cum.items() if v >= value_to_find and v < value_to_find+20 ), None)\n",
    "if key is not None:\n",
    "    print(f\"Cumulative emissions exceed {value_to_find} GtC in {key}\")\n",
    "else:\n",
    "    print(f\"Cumulative emissions {value_to_find} GtC not found; 50% likelihood of staying below 1.5C\")\n",
    "\n",
    "value_to_find = allowable_1p7C\n",
    "key = next((k for k, v in emission_historical_cum.items() if v >= value_to_find and v < value_to_find+20 ), None)\n",
    "if key is not None:\n",
    "    print(f\"Cumulative emissions exceed {value_to_find} GtC in {key}\")\n",
    "else:\n",
    "    print(f\"Cumulative emissions {value_to_find} GtC not found; 50% likelihood of staying below 1.7C\")\n",
    "\n",
    "value_to_find = allowable_2C\n",
    "key = next((k for k, v in emission_historical_cum.items() if v >= value_to_find and v < value_to_find+20 ), None)\n",
    "if key is not None:\n",
    "    print(f\"Cumulative emissions exceed {value_to_find} GtC in {key}\")\n",
    "else:\n",
    "    print(f\"Cumulative emissions {value_to_find} GtC not found; 50% likelihood of staying below 2C\")"
   ]
  },
  {
   "cell_type": "markdown",
   "id": "2350a1b0-0fc0-4f38-920c-52f7df2b34bc",
   "metadata": {},
   "source": [
    "### 2b. Project emissions to 2050 with modified growth rate\n",
    "Select Linear or Exponential and the speed of implementation"
   ]
  },
  {
   "cell_type": "code",
   "execution_count": null,
   "id": "16d98d82-55e2-44da-be1e-887397d9be7b",
   "metadata": {},
   "outputs": [],
   "source": [
    "##### MAKE A SELECTION ##### \n",
    "# how to achieve reductions? \n",
    "# In %/yr (linear =0)  or linear (linear = 1)? \n",
    "linear = 0\n",
    "##### MAKE A SELECTION ##### "
   ]
  },
  {
   "cell_type": "code",
   "execution_count": null,
   "id": "c68b7b3a-a336-4a9c-bff2-b0d3b4d36d41",
   "metadata": {},
   "outputs": [],
   "source": [
    "##### MAKE A SELECTION ##### \n",
    "# For the choice made in the cell above, chose speed of implementation\n",
    "############################\n",
    "# How fast to mitigate emissions? \n",
    "# A negative rate indicates declining emissions\n",
    "if linear ==0: \n",
    "    new_growth = -0 # in %/yr\n",
    "# OR use a linear reduction in GtC/yr; capped to prevent values less than zero\n",
    "if linear ==1:\n",
    "    linear_cut = -0 # in GtC/yr\n",
    "##### MAKE A SELECTION ##### "
   ]
  },
  {
   "cell_type": "code",
   "execution_count": null,
   "id": "6543a2d7-d12c-4529-b0c7-0c4141b739dc",
   "metadata": {},
   "outputs": [],
   "source": [
    "# Initialize the emission dictionary \n",
    "emission_new_rate = {2023: rate_emission_2023}  \n",
    "emission_new_cum={2023 : rate_emission_2023}\n",
    "\n",
    "if linear ==0: \n",
    "    # Calculate emissions for each year\n",
    "    for year in range(start_year + 1, end_year + 1):\n",
    "        emission_new_rate[year] = emission_new_rate[year - 1] * (1+ new_growth/100)\n",
    "        emission_new_cum[year] = emission_new_cum[year-1] + emission_new_rate[year]\n",
    "if linear ==1: \n",
    "        # Initialize the emission dictionary \n",
    "        emission_new_rate = {2023: rate_emission_2023}  \n",
    "        emission_new_cum={2023 : rate_emission_2023}\n",
    "        # Calculate emissions for each year\n",
    "        for year in range(start_year + 1, end_year + 1):\n",
    "            emission_new_rate[year] = emission_new_rate[year - 1] + linear_cut\n",
    "            # Here, values are set to be no less than zero \n",
    "            if emission_new_rate[year] <= 0:\n",
    "                emission_new_rate[year]=0\n",
    "            emission_new_cum[year] = emission_new_cum[year-1] + emission_new_rate[year]"
   ]
  },
  {
   "cell_type": "markdown",
   "id": "d48cc637-3790-41c0-a38e-75fb53009de6",
   "metadata": {},
   "source": [
    "## 3. Plot and compare emissions, consider net zero and ability to achieve temperature targets for mitigation case "
   ]
  },
  {
   "cell_type": "markdown",
   "id": "0fda20d4-f699-4789-a454-45daf075905b",
   "metadata": {},
   "source": [
    "### 3a. Plot emission and find net zero emissions year"
   ]
  },
  {
   "cell_type": "code",
   "execution_count": null,
   "id": "bb756ab3-ff28-4430-9c6f-500086de46b2",
   "metadata": {},
   "outputs": [],
   "source": [
    "# Plot emissions rate\n",
    "years = list(emission_historical_rate.keys())\n",
    "emission_historical_rate_plt = np.array(list(emission_historical_rate.values()))\n",
    "emission_new_rate_plt = np.array(list(emission_new_rate.values()))\n",
    "\n",
    "plt.figure(figsize=(10, 6))\n",
    "plt.xlabel('year')\n",
    "plt.ylabel('Emissions (GtC/yr)')\n",
    "plt.title('Emissions')\n",
    "plt.plot(years, emission_historical_rate_plt, color='r', label=('Emissions with historical growth rate='+str(historical_growth)+'%'))\n",
    "if linear ==0: \n",
    "    plt.plot(years, emission_new_rate_plt, color='b', label=('Emissions with new growth rate='+str(new_growth)+'%'))\n",
    "if linear ==1: \n",
    "    plt.plot(years, emission_new_rate_plt, color='b', label=('Emissions with linear cut ='+str(linear_cut)+'GtC/yr'))\n",
    "plt.legend()\n",
    "plt.grid(True)\n",
    "plt.show()"
   ]
  },
  {
   "cell_type": "code",
   "execution_count": null,
   "id": "796cc251-f050-4658-94b8-d20f8180ee1f",
   "metadata": {},
   "outputs": [],
   "source": [
    "# Find net zero emissions year \n",
    "# Use 1 GtC/yr as \"net zero\" since a percent reduction will never equal to zero\n",
    "#\n",
    "if linear ==0:\n",
    "    print(f\"With emissions mitigation at {new_growth} %/yr \")\n",
    "if linear ==1:\n",
    "    print(f\"With emissions mitigation at {linear_cut} GtC/yr \")\n",
    "\n",
    "value_to_find = 1\n",
    "key = next((k for k, v in emission_new_rate.items() if v < value_to_find ), None)\n",
    "if key is not None:\n",
    "    print(f\"Emissions are less than {value_to_find} GtC/yr (~net zero) in {key}\")\n",
    "else:\n",
    "    print(f\"Emissions less than {value_to_find} GtC/yr not found before {end_year}\")"
   ]
  },
  {
   "cell_type": "code",
   "execution_count": null,
   "id": "40b5bac0-b420-4a7b-8fd8-8afd5b14ded6",
   "metadata": {},
   "outputs": [],
   "source": [
    "#### USE THIS TO COMPARE TO YOUR CARBON FOOTPRINT in PS5 ####\n",
    "# SELECT A YEAR TO OUTPUT EMISSIONS RATE, and calculate the percent cut by that year\n",
    "query_year = 2030\n",
    "if linear ==0:\n",
    "    print(f\"With mitigation at {new_growth} %/yr \")\n",
    "if linear ==1:\n",
    "    print(f\"With mitigation at {linear_cut} GtC/yr \")\n",
    "print(f\"Emissions are {round(emission_new_rate[query_year],1)} GtC/yr in {query_year} \")\n",
    "print(f\"Emissions in {query_year} are {round(100*emission_new_rate[query_year]/emission_new_rate[2023],1)} % of 2023 emissions; a {100-round(100*emission_new_rate[query_year]/emission_new_rate[2023],1)}% reduction\")\n",
    "#### USE THIS TO COMPARE TO YOUR CARBON FOOTPRINT in PS5 ####"
   ]
  },
  {
   "cell_type": "markdown",
   "id": "eaa5b952-d692-43da-b9b9-6978b24e6a52",
   "metadata": {},
   "source": [
    "### 3b. Plot cumulative emissions and assess ability to meet temperature targets based on allowable emissions"
   ]
  },
  {
   "cell_type": "code",
   "execution_count": null,
   "id": "d4f837b3-d1bd-4843-a1a4-00c7caf55485",
   "metadata": {},
   "outputs": [],
   "source": [
    "# Plot cumulative emissions\n",
    "years = list(emission_historical_rate.keys())\n",
    "emission_historical_cum_plt = np.array(list(emission_historical_cum.values()))\n",
    "emission_new_cum_plt = np.array(list(emission_new_cum.values()))\n",
    "\n",
    "plt.figure(figsize=(10, 6))\n",
    "plt.xlabel('year')\n",
    "plt.ylabel('Emissions (GtC)')\n",
    "plt.title('Cumulative Emissions')\n",
    "plt.plot(years, emission_historical_cum_plt, color='r', label=('Emissions with historical growth rate='+str(historical_growth)+'%'))\n",
    "if linear ==0: \n",
    "    plt.plot(years, emission_new_cum_plt, color='b', label=('Emissions with new growth rate='+str(new_growth)+'%'))\n",
    "if linear ==1: \n",
    "    plt.plot(years, emission_new_cum_plt, color='b', label=('Emissions with linear cut ='+str(linear_cut)+'GtC/yr'))\n",
    "plt.legend()\n",
    "plt.grid(True)\n",
    "plt.show()"
   ]
  },
  {
   "cell_type": "code",
   "execution_count": null,
   "id": "1d95529a-b768-403c-aea6-68c9c782e66c",
   "metadata": {},
   "outputs": [],
   "source": [
    "if linear ==0:\n",
    "    print(f\"With emissions mitigation at {new_growth} %/yr \")\n",
    "if linear ==1:\n",
    "    print(f\"With emissions mitigation at {linear_cut} GtC/yr \")\n",
    "\n",
    "value_to_find = allowable_1p5C\n",
    "key = next((k for k, v in emission_new_cum.items() if v >= value_to_find and v < value_to_find+20 ), None)\n",
    "if key is not None:\n",
    "    print(f\"Cumulative emissions exceed {value_to_find} GtC in {key}\")\n",
    "else:\n",
    "    print(f\"Cumulative emissions {value_to_find} GtC not found; 50% likelihood of staying below 1.5C\")\n",
    "\n",
    "value_to_find = allowable_1p7C\n",
    "key = next((k for k, v in emission_new_cum.items() if v >= value_to_find and v < value_to_find+20 ), None)\n",
    "if key is not None:\n",
    "    print(f\"Cumulative emissions exceed {value_to_find} GtC in {key}\")\n",
    "else:\n",
    "    print(f\"Cumulative emissions {value_to_find} GtC not found; 50% likelihood of staying below 1.7C\")\n",
    "\n",
    "value_to_find = allowable_2C\n",
    "key = next((k for k, v in emission_new_cum.items() if v >= value_to_find and v < value_to_find+20 ), None)\n",
    "if key is not None:\n",
    "    print(f\"Cumulative emissions exceed {value_to_find} GtC in {key}\")\n",
    "else:\n",
    "    print(f\"Cumulative emissions {value_to_find} GtC not found; 50% likelihood of staying below 2C\")"
   ]
  },
  {
   "cell_type": "markdown",
   "id": "c02ed23b-c90b-4d80-acdf-87cb50ceaef3",
   "metadata": {},
   "source": [
    "## 4. Add engineered CDR to projections\n",
    "Select Linear or Exponential and the speed of implementation"
   ]
  },
  {
   "cell_type": "code",
   "execution_count": null,
   "id": "e686e015-8dcc-4e3c-b5f2-589021294ee1",
   "metadata": {},
   "outputs": [],
   "source": [
    "# GCB section 3.3 \n",
    "# -0.002 MtC/yr DACCS + -0.001 MtC/yr Enhanced Weathering\n",
    "current_engineered_CDR = -0.003/1000 # in GtC/yr"
   ]
  },
  {
   "cell_type": "code",
   "execution_count": null,
   "id": "f37b15f0-3819-4f8f-82ee-9a4c54f6ac7f",
   "metadata": {},
   "outputs": [],
   "source": [
    "##### MAKE A SELECTION ##### \n",
    "# how to achieve increase? \n",
    "# In %/yr (linear_CDR =0)  or linear (linear_CDR = 1)? \n",
    "linear_CDR = 1\n",
    "##### MAKE A SELECTION ##### "
   ]
  },
  {
   "cell_type": "code",
   "execution_count": null,
   "id": "babf49f9-62d0-4453-a54a-296d5bd554f5",
   "metadata": {},
   "outputs": [],
   "source": [
    "##### MAKE A SELECTION ##### \n",
    "# For the choice made in the cell above, chose speed of implementation\n",
    "############################\n",
    "# How fast to mitigate emissions? \n",
    "# A positive rate indicates increasing capacity\n",
    "if linear_CDR ==0: \n",
    "    CDR_growth_rate = 0 # in %/yr\n",
    "# OR use a linear increase in GtC/yr \n",
    "if linear_CDR ==1:\n",
    "    CDR_growth_linear = 0 # in GtC/yr \n",
    "##### MAKE A SELECTION ##### "
   ]
  },
  {
   "cell_type": "code",
   "execution_count": null,
   "id": "d29a37d3-ae47-41eb-afbe-adb4fcab1faa",
   "metadata": {},
   "outputs": [],
   "source": [
    "# Initialize the CDR dictionary\n",
    "engineered_CDR_rate = {2023: current_engineered_CDR}  \n",
    "engineered_CDR_cum = {2023: current_engineered_CDR}  \n",
    "\n",
    "if linear_CDR == 0:\n",
    "    # Calculate CDR for each year\n",
    "    for year in range(start_year + 1, end_year + 1):\n",
    "        engineered_CDR_rate[year] = engineered_CDR_rate[year - 1] * (1+ CDR_growth_rate/100)\n",
    "        engineered_CDR_cum[year] = engineered_CDR_cum[year-1] + engineered_CDR_rate[year]\n",
    "if linear_CDR == 1:\n",
    "    # Calculate CDR for each year\n",
    "    for year in range(start_year + 1, end_year + 1):\n",
    "        engineered_CDR_rate[year] = engineered_CDR_rate[year - 1] + CDR_growth_linear\n",
    "        engineered_CDR_cum[year] = engineered_CDR_cum[year-1] + engineered_CDR_rate[year]"
   ]
  },
  {
   "cell_type": "code",
   "execution_count": null,
   "id": "fe684a31-e876-43c7-a4dc-48b71602128e",
   "metadata": {},
   "outputs": [],
   "source": [
    "# Add CDR to both scenarios to get effective emissions after CDR\n",
    "# Initialize \n",
    "emission_historical_rate_CDR = {2023: rate_emission_2023}  \n",
    "emission_new_rate_CDR={2023 : rate_emission_2023}\n",
    "emission_historical_CDR_cum = {2023: rate_emission_2023}  \n",
    "emission_new_CDR_cum={2023 : rate_emission_2023}\n",
    "# Calculate effective emissions for each year\n",
    "for year in range(start_year + 1, end_year + 1):\n",
    "    # Add CDR to emissions\n",
    "    emission_historical_rate_CDR[year] = emission_historical_rate[year] + engineered_CDR_rate[year] \n",
    "    emission_new_rate_CDR[year] = emission_new_rate[year] + engineered_CDR_rate[year] \n",
    "    # Cumulative\n",
    "    emission_historical_CDR_cum[year] = emission_historical_CDR_cum[year-1] + emission_historical_rate_CDR[year]\n",
    "    emission_new_CDR_cum[year] = emission_new_CDR_cum[year-1] + emission_new_rate_CDR[year]"
   ]
  },
  {
   "cell_type": "markdown",
   "id": "39b0f77d-5918-4690-b00b-e8a904986ef0",
   "metadata": {},
   "source": [
    "### 4a. Plot emissions + engineered CDR and find net zero emissions year"
   ]
  },
  {
   "cell_type": "code",
   "execution_count": null,
   "id": "262318f7-0d6e-4a7e-927d-3fddfd697647",
   "metadata": {},
   "outputs": [],
   "source": [
    "years = list(emission_historical_rate.keys())\n",
    "\n",
    "# extract data to plot\n",
    "emission_historical_rate_plt = np.array(list(emission_historical_rate.values()))\n",
    "emission_new_rate_plt = np.array(list(emission_new_rate.values()))\n",
    "engineered_CDR_rate_plt = np.array(list(engineered_CDR_rate.values()))\n",
    "emission_historical_rate_plt_CDR = np.array(list(emission_historical_rate_CDR.values()))\n",
    "emission_new_rate_plt_CDR = np.array(list(emission_new_rate_CDR.values()))\n",
    "\n",
    "plt.figure(figsize=(10, 6))\n",
    "plt.xlabel('year')\n",
    "plt.ylabel('Emissions / Removals (GtC/yr)')\n",
    "plt.title('Emissions and CDR')\n",
    "plt.plot(years, emission_historical_rate_plt, color='r', label=('Emissions with historical growth rate='+str(historical_growth)+'%/yr'))\n",
    "\n",
    "if linear ==0: \n",
    "    plt.plot(years, emission_new_rate_plt, color='b', label=('Emissions with new growth rate='+str(new_growth)+'%'))\n",
    "if linear ==1: \n",
    "    plt.plot(years, emission_new_rate_plt, color='b', label=('Emissions with linear cut ='+str(linear_cut)+'GtC/yr'))\n",
    "    \n",
    "if linear_CDR==0: \n",
    "    plt.plot(years, engineered_CDR_rate_plt, color='k', label=('CDR, growing '+str(CDR_growth_rate)+'%/yr'))\n",
    "if linear_CDR==1: \n",
    "    plt.plot(years, engineered_CDR_rate_plt, color='k', label=('CDR, growing '+str(CDR_growth_linear)+' GtC/yr'))\n",
    "    \n",
    "plt.plot(years, emission_historical_rate_plt_CDR, color='r',linestyle='--', label=('Emissions with historical growth rate='+str(historical_growth)+'%/yr'+' + CDR'))\n",
    "plt.plot(years, emission_new_rate_plt_CDR , color='b',linestyle='--', label=('Emissions with revised emissions + CDR'))\n",
    "plt.legend()\n",
    "plt.grid(True)\n",
    "plt.show()"
   ]
  },
  {
   "cell_type": "code",
   "execution_count": null,
   "id": "7bda24f9-e269-4d77-b316-c3c0d43a9332",
   "metadata": {},
   "outputs": [],
   "source": [
    "# Find net zero emissions year \n",
    "# Use 1 GtC/yr as \"net zero\" since a percent reduction will never equal to zero\n",
    "if linear ==0:\n",
    "    print(f\"With emissions mitigation at {new_growth} %/yr \")\n",
    "if linear ==1:\n",
    "    print(f\"With emissions mitigation at {linear_cut} GtC/yr \")\n",
    "\n",
    "if linear_CDR ==0:\n",
    "    print(f\"and CDR growing at {CDR_growth_rate} %/yr \")\n",
    "if linear_CDR ==1:\n",
    "    print(f\"and CDR growing at {CDR_growth_linear} GtC/yr \")\n",
    "\n",
    "value_to_find = 1\n",
    "key = next((k for k, v in emission_new_rate_CDR.items() if v < value_to_find ), None)\n",
    "if key is not None:\n",
    "    print(f\"Net emissions are less than {value_to_find} GtC/yr (~ net zero) in {key}\")\n",
    "else:\n",
    "    print(f\"Net emissions less than {value_to_find} GtC/yr not found before {end_year}\")"
   ]
  },
  {
   "cell_type": "markdown",
   "id": "5e3a38eb-14d1-4c7e-b6ba-ad3d9373750b",
   "metadata": {},
   "source": [
    "### 4b. Plot cumulative emissions + engineered CDR"
   ]
  },
  {
   "cell_type": "code",
   "execution_count": null,
   "id": "7d853236-ccc2-439a-b7d7-1942ab219e1f",
   "metadata": {},
   "outputs": [],
   "source": [
    "# Plot cumulative emissions\n",
    "years = list(emission_historical_rate.keys())\n",
    "emission_historical_CDR_cum_plt = np.array(list(emission_historical_CDR_cum.values()))\n",
    "emission_new_CDR_cum_plt = np.array(list(emission_new_CDR_cum.values()))\n",
    "engineered_CDR_cum_plt = np.array(list(engineered_CDR_cum.values()))\n",
    "\n",
    "plt.figure(figsize=(10, 6))\n",
    "plt.xlabel('year')\n",
    "plt.ylabel('Emissions (GtC)')\n",
    "plt.title('Cumulative Emissions with CDR')\n",
    "\n",
    "plt.plot(years, emission_historical_CDR_cum_plt, color='r', label=('Emissions with historical growth rate='+str(historical_growth)+'% + CDR'))\n",
    "if linear ==0: \n",
    "    plt.plot(years, emission_new_CDR_cum_plt, color='b', label=('Emissions with new growth rate='+str(new_growth)+'% + CDR'))\n",
    "if linear ==1: \n",
    "    plt.plot(years, emission_new_CDR_cum_plt, color='b', label=('Emissions with linear cut ='+str(linear_cut)+'GtC/yr+ CDR'))\n",
    "    \n",
    "if linear_CDR==0: \n",
    "    plt.plot(years, engineered_CDR_cum_plt, color='k', label=('CDR, growing '+str(CDR_growth_rate)+'%/yr'))\n",
    "if linear_CDR==1: \n",
    "    plt.plot(years, engineered_CDR_cum_plt, color='k', label=('CDR, growing '+str(CDR_growth_linear)+' GtC/yr'))\n",
    "    \n",
    "plt.legend()\n",
    "plt.grid(True)\n",
    "plt.show()"
   ]
  },
  {
   "cell_type": "markdown",
   "id": "56a7c29e-936f-4303-beb0-f55e732f34b7",
   "metadata": {},
   "source": [
    "### 4c. Does engineered CDR help achieve Temperature targets? Consider both with historical rate of emissions growth and new rate."
   ]
  },
  {
   "cell_type": "code",
   "execution_count": null,
   "id": "2924c82c-2dd9-42b6-9e6e-65cce421c4ee",
   "metadata": {},
   "outputs": [],
   "source": [
    "print(f\"With emissions growing at {historical_growth} %/yr\")\n",
    "if linear_CDR ==0:\n",
    "    print(f\"and CDR growing at {CDR_growth_rate} %/yr \")\n",
    "if linear_CDR ==1:\n",
    "    print(f\"and CDR growing at {CDR_growth_linear} GtC/yr \")\n",
    "\n",
    "value_to_find = allowable_1p5C\n",
    "key = next((k for k, v in emission_historical_CDR_cum.items() if v >= value_to_find and v < value_to_find+20 ), None)\n",
    "if key is not None:\n",
    "    print(f\"Cumulative emissions exceed {value_to_find} GtC in {key}\")\n",
    "else:\n",
    "    print(f\"Cumulative emissions {value_to_find} GtC not found; 50% likelihood of staying below 1.5C\")\n",
    "\n",
    "value_to_find = allowable_1p7C\n",
    "key = next((k for k, v in emission_historical_CDR_cum.items() if v >= value_to_find and v < value_to_find+20 ), None)\n",
    "if key is not None:\n",
    "    print(f\"Cumulative emissions exceed {value_to_find} GtC in {key}\")\n",
    "else:\n",
    "    print(f\"Cumulative emissions {value_to_find} GtC not found; 50% likelihood of staying below 1.7C\")\n",
    "\n",
    "value_to_find = allowable_2C\n",
    "key = next((k for k, v in emission_historical_CDR_cum.items() if v >= value_to_find and v < value_to_find+20 ), None)\n",
    "if key is not None:\n",
    "    print(f\"Cumulative emissions exceed {value_to_find} GtC in {key}\")\n",
    "else:\n",
    "    print(f\"Cumulative emissions {value_to_find} GtC not found; 50% likelihood of staying below 2C\")"
   ]
  },
  {
   "cell_type": "code",
   "execution_count": null,
   "id": "18c07c09-a6db-4a3a-8221-0f09c0dd0d68",
   "metadata": {},
   "outputs": [],
   "source": [
    "if linear ==0:\n",
    "    print(f\"With emissions mitigation at {new_growth} %/yr \")\n",
    "if linear ==1:\n",
    "    print(f\"With emissions mitigation at {linear_cut} GtC/yr \")\n",
    "if linear_CDR ==0:\n",
    "    print(f\"and CDR growing at {CDR_growth_rate} %/yr \")\n",
    "if linear_CDR ==1:\n",
    "    print(f\"and CDR growing at {CDR_growth_linear} GtC/yr \")\n",
    "\n",
    "\n",
    "value_to_find = allowable_1p5C\n",
    "key = next((k for k, v in emission_new_CDR_cum.items() if v >= value_to_find and v < value_to_find+20 ), None)\n",
    "if key is not None:\n",
    "    print(f\"Cumulative emissions exceed {value_to_find} GtC in {key}\")\n",
    "else:\n",
    "    print(f\"Cumulative emissions {value_to_find} GtC not found; 50% likelihood of staying below 1.5C\")\n",
    "\n",
    "value_to_find = allowable_1p7C\n",
    "key = next((k for k, v in emission_new_CDR_cum.items() if v >= value_to_find and v < value_to_find+20 ), None)\n",
    "if key is not None:\n",
    "    print(f\"Cumulative emissions exceed {value_to_find} GtC in {key}\")\n",
    "else:\n",
    "    print(f\"Cumulative emissions {value_to_find} GtC not found; 50% likelihood of staying below 1.7C\")\n",
    "\n",
    "value_to_find = allowable_2C\n",
    "key = next((k for k, v in emission_new_CDR_cum.items() if v >= value_to_find and v < value_to_find+20 ), None)\n",
    "if key is not None:\n",
    "    print(f\"Cumulative emissions exceed {value_to_find} GtC in {key}\")\n",
    "else:\n",
    "    print(f\"Cumulative emissions {value_to_find} GtC not found; 50% likelihood of staying below 2C\")"
   ]
  },
  {
   "cell_type": "markdown",
   "id": "14faab6e-5ca1-4fdf-91f7-dcf3f977e40e",
   "metadata": {},
   "source": [
    "### 4d. How much installed capacity of engineered CDR in selected year?"
   ]
  },
  {
   "cell_type": "code",
   "execution_count": null,
   "id": "6724b8a1-e5a2-4c6e-b9a6-b726512ad956",
   "metadata": {},
   "outputs": [],
   "source": [
    "query_year = 2070\n",
    "if linear_CDR ==0:\n",
    "    print(f\"With CDR growing at {CDR_growth_rate} %/yr \")\n",
    "if linear_CDR ==1:\n",
    "    print(f\"With CDR growing at {CDR_growth_linear} GtC/yr \")\n",
    "\n",
    "print(f\"Engineered CDR is {engineered_CDR_rate[query_year]} GtC/yr in {query_year} \")\n",
    "print(f\"Cumulative engineered CDR is {engineered_CDR_cum[query_year]} GtC/yr in {query_year} \")"
   ]
  },
  {
   "cell_type": "markdown",
   "id": "ae42e63b-fcdc-4435-952d-9cbdad9840f2",
   "metadata": {},
   "source": [
    "### 4e. If all engineered CDR is DAC, how many of the currently-largest DAC plants must be installed? "
   ]
  },
  {
   "cell_type": "code",
   "execution_count": null,
   "id": "22341acc-7baf-48c5-b4b9-2672e5bf5b2c",
   "metadata": {},
   "outputs": [],
   "source": [
    "# how many of the currently-biggest DAC plants \n",
    "biggestDAC = 0.0005 # GtCO2/yr (Stratos plant, Texas, 500,000 tons CO2 / yr, starting mid-2025)\n",
    "biggestDAC = biggestDAC/3.664 # in GtC/yr\n",
    "print(f\"If all engineered CDR with DAC, this implies {round((engineered_CDR_rate[query_year]*-1)/biggestDAC)} installed plants in {query_year}\")"
   ]
  },
  {
   "cell_type": "code",
   "execution_count": null,
   "id": "98623004-df61-4bb8-9a1b-eb5503da56bd",
   "metadata": {},
   "outputs": [],
   "source": []
  }
 ],
 "metadata": {
  "kernelspec": {
   "display_name": "Python 3 (ipykernel)",
   "language": "python",
   "name": "python3"
  },
  "language_info": {
   "codemirror_mode": {
    "name": "ipython",
    "version": 3
   },
   "file_extension": ".py",
   "mimetype": "text/x-python",
   "name": "python",
   "nbconvert_exporter": "python",
   "pygments_lexer": "ipython3",
   "version": "3.12.7"
  }
 },
 "nbformat": 4,
 "nbformat_minor": 5
}
